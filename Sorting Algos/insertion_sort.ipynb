{
 "cells": [
  {
   "cell_type": "markdown",
   "metadata": {},
   "source": [
    "# INSERTION SORT\n",
    "- Insertion sort builds a sorted array one element at a time by repeatedly taking the next element from the unsorted portion and inserting it into the correct position in the sorted portion.\n",
    "\n",
    "## STEPS\n",
    "1. Start with the second element (consider the first element sorted).\n",
    "2. Compare it to the elements in the sorted portion (to its left).\n",
    "3. Shift the sorted elements to the right to make space for the new element.\n",
    "4. Insert the new element in its correct position.\n",
    "5. Repeat for all elements in the array.\n",
    "\n",
    "## TIME COMPLEXITY\n",
    "- **Best Case:** O(n) (when the array is already sorted)\n",
    "- **Average Case:** O(n^2)\n",
    "- **Worst Case:** O(n^2)"
   ]
  },
  {
   "cell_type": "code",
   "execution_count": null,
   "metadata": {},
   "outputs": [],
   "source": [
    "def insertion_sort(unsorted):\n",
    "    for i in range(1, len(unsorted)):\n",
    "        key = unsorted[i]\n",
    "        j = i - 1\n",
    "        while j >= 0 and key < unsorted[j]:\n",
    "            unsorted[j + 1] = unsorted[j]\n",
    "            j -= 1\n",
    "        unsorted[j + 1] = key\n",
    "    return unsorted\n",
    "\n",
    "\n",
    "arr = [5, 2, 8, 9, 1, 3, 7, 4, 6]\n",
    "\n",
    "result = insertion_sort(arr)\n",
    "print(result)\n",
    "\n"
   ]
  }
 ],
 "metadata": {
  "kernelspec": {
   "display_name": "env",
   "language": "python",
   "name": "python3"
  },
  "language_info": {
   "codemirror_mode": {
    "name": "ipython",
    "version": 3
   },
   "file_extension": ".py",
   "mimetype": "text/x-python",
   "name": "python",
   "nbconvert_exporter": "python",
   "pygments_lexer": "ipython3",
   "version": "3.12.6"
  }
 },
 "nbformat": 4,
 "nbformat_minor": 2
}
