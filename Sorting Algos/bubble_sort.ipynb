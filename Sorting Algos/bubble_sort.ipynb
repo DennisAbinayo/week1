{
 "cells": [
  {
   "cell_type": "markdown",
   "metadata": {},
   "source": [
    "# BUBBLE SORT\n",
    "- Bubble Sort is a sorting algorithm that repeatedly traverses through the array, compares adjacent elements, and swaps them if they are in the wrong order. The process is repeated until the list is sorted.\n",
    "\n",
    "\n",
    "## How Bubble Sort Works\n",
    "\n",
    "1. **Compare** adjacent elements.\n",
    "2. **Swap** them if they are in the wrong order.\n",
    "3. Repeat the process for the entire list until no swaps are needed.\n",
    "\n",
    "## Time Complexity\n",
    "\n",
    "- **Best Case:** O(n) (when the array is already sorted)\n",
    "- **Average Case:** O(n^2)\n",
    "- **Worst Case:** O(n^2)\n"
   ]
  },
  {
   "cell_type": "code",
   "execution_count": null,
   "metadata": {},
   "outputs": [],
   "source": [
    "def bubble_sort(unsorted):\n",
    "    is_swap = True\n",
    "    \n",
    "    while is_swap:\n",
    "        is_swap = False\n",
    "        for i in range(len(unsorted) - 1):\n",
    "            min_value = float('inf')\n",
    "            \n",
    "            if unsorted[i] > unsorted[i+1]:\n",
    "                unsorted[i], unsorted[i+1] = unsorted[i+1], unsorted[i]\n",
    "                is_swap = True\n",
    "    return unsorted       \n",
    "        \n",
    "arr = [64, 34, 25, 12, 22, 11, 90, 2, 101] \n",
    "result = bubble_sort(arr)\n",
    "\n",
    "print(result)        \n",
    "\n"
   ]
  }
 ],
 "metadata": {
  "kernelspec": {
   "display_name": "env",
   "language": "python",
   "name": "python3"
  },
  "language_info": {
   "codemirror_mode": {
    "name": "ipython",
    "version": 3
   },
   "file_extension": ".py",
   "mimetype": "text/x-python",
   "name": "python",
   "nbconvert_exporter": "python",
   "pygments_lexer": "ipython3",
   "version": "3.12.6"
  }
 },
 "nbformat": 4,
 "nbformat_minor": 2
}
