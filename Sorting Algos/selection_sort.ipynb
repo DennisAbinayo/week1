{
 "cells": [
  {
   "cell_type": "markdown",
   "metadata": {},
   "source": [
    "# SELECTION SORT\n"
   ]
  },
  {
   "cell_type": "markdown",
   "metadata": {},
   "source": [
    "## Space Inefficient Selection Sort\n",
    "\n",
    "- Has two loops \n",
    "- O(n^2) [time complexity]\n",
    "- O(n) [space complexity] increases depending on the length of the array"
   ]
  },
  {
   "cell_type": "code",
   "execution_count": null,
   "metadata": {},
   "outputs": [],
   "source": [
    "def selection_sort1(unsorted_array):\n",
    "    sorted_array = []\n",
    "    \n",
    "    while len(unsorted_array) > 0:\n",
    "        min_value = float('inf') # infinity\n",
    "        for item in unsorted_array:\n",
    "            if item < min_value:\n",
    "                min_value = item\n",
    "        sorted_array.append(min_value)\n",
    "        unsorted_array.remove(min_value)\n",
    "    return sorted_array\n",
    "\n",
    "arr = [10, 5, 3, 8, 2, 6, 4, 7, 9, 1]\n",
    "result = selection_sort1(arr)\n",
    "print(result)\n"
   ]
  },
  {
   "cell_type": "markdown",
   "metadata": {},
   "source": [
    "## Space Efficient Selection Sort\n",
    "\n",
    "- Has two loops \n",
    "- O(n^2) [time complexity]\n",
    "- O(1) [space complexity] constant as only swapping of indices is computed"
   ]
  },
  {
   "cell_type": "code",
   "execution_count": null,
   "metadata": {},
   "outputs": [],
   "source": [
    "def selection_sort2(unsorted_array):\n",
    "    for j in range(len(unsorted_array)):\n",
    "        min_value = float('inf') \n",
    "        \n",
    "        for i in range(j, len(unsorted_array)):\n",
    "            if unsorted_array[i] < min_value:\n",
    "                min_value = unsorted_array[i]\n",
    "                min_index = i\n",
    "        unsorted_array[min_index] = unsorted_array[j]\n",
    "        unsorted_array[j] = min_value\n",
    "    return unsorted_array\n",
    "\n",
    "arr = [64, 25, 12, 22, 11]\n",
    "result = selection_sort2(arr)\n",
    "print(result)"
   ]
  }
 ],
 "metadata": {
  "kernelspec": {
   "display_name": "env",
   "language": "python",
   "name": "python3"
  },
  "language_info": {
   "codemirror_mode": {
    "name": "ipython",
    "version": 3
   },
   "file_extension": ".py",
   "mimetype": "text/x-python",
   "name": "python",
   "nbconvert_exporter": "python",
   "pygments_lexer": "ipython3",
   "version": "3.12.6"
  }
 },
 "nbformat": 4,
 "nbformat_minor": 2
}
