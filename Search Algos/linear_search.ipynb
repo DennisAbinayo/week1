{
 "cells": [
  {
   "cell_type": "markdown",
   "metadata": {},
   "source": [
    "## LINEAR SEARCH\n",
    "\n",
    "#### Overview\n",
    "- Linear search is a simple algorithm that checks each element in a list sequentially until the target value is found or the list ends.\n",
    "- Returns the index of the target if found, else returns None\n",
    "\n",
    "#### Function Signature\n",
    "```python\n",
    "def linear_search(arr: list, target: int) -> int:"
   ]
  },
  {
   "cell_type": "code",
   "execution_count": null,
   "metadata": {},
   "outputs": [],
   "source": [
    "def linear_search(arr, target):\n",
    "    \n",
    "    for i in range(0, len(arr)):\n",
    "        if arr[i] == target:\n",
    "            return i\n",
    "    return None\n",
    "\n",
    "\n",
    "def verify(index):\n",
    "    if index is not None:\n",
    "        print(\"Target found at index:\", index)\n",
    "    else:\n",
    "        print(\"Target not found in list\")\n",
    "        \n",
    "        \n",
    "numbers = [1,2,3,4,5,6,7,8,9,10]\n",
    "result = linear_search(numbers, 7)\n",
    "verify(result)"
   ]
  }
 ],
 "metadata": {
  "kernelspec": {
   "display_name": "env",
   "language": "python",
   "name": "python3"
  },
  "language_info": {
   "codemirror_mode": {
    "name": "ipython",
    "version": 3
   },
   "file_extension": ".py",
   "mimetype": "text/x-python",
   "name": "python",
   "nbconvert_exporter": "python",
   "pygments_lexer": "ipython3",
   "version": "3.12.6"
  }
 },
 "nbformat": 4,
 "nbformat_minor": 2
}
