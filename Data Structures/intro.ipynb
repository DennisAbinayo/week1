{
 "cells": [
  {
   "cell_type": "markdown",
   "metadata": {},
   "source": [
    "# DATA STRUCTURES\n",
    "- Data structures are organized formats for storing, managing, and accessing data in programming.\n",
    "- They enable efficient data manipulation and retrieval, making it easier to perform various operations.\n",
    "\n",
    "## CATEGORIES OF DATA STRUCTURES\n",
    "- There are primitive (Integer, Float, String, Boolean) and non-primitive data structures.\n",
    "- Categories of non-primitive data structures:\n",
    "\n",
    "### Linear Data Structures\n",
    "- Arrays\n",
    "- Linked Lists\n",
    "- Stacks\n",
    "- Queues\n",
    "\n",
    "### Non-Linear Data Structures\n",
    "- Hashmaps\n",
    "- Trees\n",
    "- Graphs\n",
    "\n",
    "## CHOOSING DATA STRUCTURES\n",
    "- Accessing data\n",
    "- Searching for data\n",
    "- Inserting data\n",
    "- Deleting data\n"
   ]
  }
 ],
 "metadata": {
  "kernelspec": {
   "display_name": "env",
   "language": "python",
   "name": "python3"
  },
  "language_info": {
   "name": "python",
   "version": "3.12.6"
  }
 },
 "nbformat": 4,
 "nbformat_minor": 2
}
