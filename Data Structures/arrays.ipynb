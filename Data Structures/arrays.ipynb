{
 "cells": [
  {
   "cell_type": "markdown",
   "metadata": {},
   "source": [
    "# ARRAYS\n",
    "- List of items with similar data types (primitive data type).\n",
    "- Array size cannot be changed (Fixed size). We have caveats in Python where array sizes can increase, or in Java where we have static and dynamic arrays\n",
    "\n",
    "## COMMON OPERATIONS\n",
    "- Accessing an element (Use of indexes, usually integers, to access data) O(1)\n",
    "- Replacing values in an array O(1)\n",
    "- Searching O(n)\n",
    "- Inserting O(n)\n",
    "- Deleting O(n)\n",
    "\n",
    "## LIMITATIONS\n",
    "- Have fixed size\n",
    "- Inefficient when inserting and deleting\n",
    "\n",
    "\n",
    "### LISTS IN PYTHON\n",
    "- When you declare an array and want to append an element, python creates a new array with double the size in memory"
   ]
  },
  {
   "cell_type": "code",
   "execution_count": 4,
   "metadata": {},
   "outputs": [],
   "source": [
    "\n",
    "arr1 = [4, \"hello\", 5, True] ## Not an array (Data type should be similar)\n",
    "arr2 = [\"Apple\", \"Banana\", \"Carrot\"] ## Array of strings\n",
    "arr3 = [1, 2, 3, 4, 5] ## Array of integers\n",
    "arr4 = [[4,5,6,7,8],[4,5,6,7,8],[4,5,6,7,8],[4,5,6,7,8]] #n-dimensional array\n"
   ]
  }
 ],
 "metadata": {
  "kernelspec": {
   "display_name": "env",
   "language": "python",
   "name": "python3"
  },
  "language_info": {
   "codemirror_mode": {
    "name": "ipython",
    "version": 3
   },
   "file_extension": ".py",
   "mimetype": "text/x-python",
   "name": "python",
   "nbconvert_exporter": "python",
   "pygments_lexer": "ipython3",
   "version": "3.12.6"
  }
 },
 "nbformat": 4,
 "nbformat_minor": 2
}
