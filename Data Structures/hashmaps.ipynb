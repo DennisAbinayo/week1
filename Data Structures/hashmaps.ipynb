{
 "cells": [
  {
   "cell_type": "markdown",
   "metadata": {},
   "source": [
    "# HASHMAPS(Dictionaries)\n",
    "- Stores data as key and value (Keys replace indexes which are used in arrays)\n",
    "- Keys have to be unique\n",
    "\n",
    "## COMMON OPERATIONS\n",
    "- Accessing(key) O(1)\n",
    "- Replacing values O(1)\n",
    "- Searching O(n)\n",
    "- Inserting O(1)\n",
    "- Deleting O(1)  [ del, pop(), popitem(), clear() ]\n"
   ]
  },
  {
   "cell_type": "code",
   "execution_count": null,
   "metadata": {},
   "outputs": [],
   "source": [
    "workers = {\n",
    "    'John': 'Manager',\n",
    "    'Jane': 'Assistant',\n",
    "    'Bob': 'Developer',\n",
    "    'Alice': 'Developer'\n",
    "    }\n",
    "\n",
    "print(workers['Bob'])"
   ]
  },
  {
   "cell_type": "markdown",
   "metadata": {},
   "source": [
    "# HASH FUNCTIONS\n",
    "- Hash functions are algorithms that convert input data into a fixed-size string of bytes, usually a hash value. This is commonly used in data structures like hash tables, ensuring data integrity, and cryptography.\n",
    "\n",
    "## Common Hash Functions in Python\n",
    "\n",
    "### 1. Built-in `hash()`\n",
    "\n",
    "Python provides a built-in `hash()` function that returns the hash value of an object (if it has one).\n",
    "\n",
    "```python\n",
    "# Example of using the built-in hash function\n",
    "my_string = \"Hello, World!\"\n",
    "hash_value = hash(my_string)\n",
    "print(hash_value)  # Output: An integer hash value\n"
   ]
  },
  {
   "cell_type": "code",
   "execution_count": 14,
   "metadata": {},
   "outputs": [],
   "source": [
    "# # Safaricom stock\n",
    "# safaricom = {\n",
    "#     '01/01/2024': 100,\n",
    "#     '24/02/2024': 215,\n",
    "#     '25/04/2024': 220,\n",
    "#     '31/07/2024': 250\n",
    "# }\n",
    "\n",
    "# # assuming it is not a leap year\n",
    "# if int(key[3:5]) == 1: # January\n",
    "#     print(key[:2])\n",
    "# if int(key[3:5]) == 2: # February\n",
    "#     print(key[:2] + 31) ## adding 31(the number of days in February)\n",
    "# if int(key[3:5]) == 3: # April\n",
    "#     print(key[:2] + (31 + 28)) ## adding 28(the number of days in April)\n",
    "\n",
    "\n",
    "# Memory location: 1-365\n",
    "# Keys are always dates\n",
    "\n",
    "# I want to convert the dates(strings) to day of the year(1-365) "
   ]
  }
 ],
 "metadata": {
  "kernelspec": {
   "display_name": "env",
   "language": "python",
   "name": "python3"
  },
  "language_info": {
   "codemirror_mode": {
    "name": "ipython",
    "version": 3
   },
   "file_extension": ".py",
   "mimetype": "text/x-python",
   "name": "python",
   "nbconvert_exporter": "python",
   "pygments_lexer": "ipython3",
   "version": "3.12.6"
  }
 },
 "nbformat": 4,
 "nbformat_minor": 2
}
